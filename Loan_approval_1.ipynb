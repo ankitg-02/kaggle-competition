{
  "nbformat": 4,
  "nbformat_minor": 0,
  "metadata": {
    "colab": {
      "provenance": [],
      "authorship_tag": "ABX9TyP7evejgbsAWc4waKk0pbq2",
      "include_colab_link": true
    },
    "kernelspec": {
      "name": "python3",
      "display_name": "Python 3"
    },
    "language_info": {
      "name": "python"
    }
  },
  "cells": [
    {
      "cell_type": "markdown",
      "metadata": {
        "id": "view-in-github",
        "colab_type": "text"
      },
      "source": [
        "<a href=\"https://colab.research.google.com/github/ankitg-02/kaggle-competition/blob/main/Loan_approval_1.ipynb\" target=\"_parent\"><img src=\"https://colab.research.google.com/assets/colab-badge.svg\" alt=\"Open In Colab\"/></a>"
      ]
    },
    {
      "cell_type": "code",
      "execution_count": null,
      "metadata": {
        "id": "HEiy_DcjAi60"
      },
      "outputs": [],
      "source": [
        "import numpy as np\n",
        "import pandas as pd\n",
        "import matplotlib.pyplot as plt\n",
        "import seaborn as sns\n",
        "import warnings\n",
        "warnings.filterwarnings('ignore')\n",
        "from sklearn.preprocessing import LabelEncoder,OrdinalEncoder,StandardScaler\n",
        "from sklearn.compose import ColumnTransformer\n",
        "from sklearn.model_selection import train_test_split,cross_val_score\n",
        "from sklearn.linear_model import LogisticRegression\n",
        "from sklearn.tree import DecisionTreeClassifier\n",
        "from sklearn.ensemble import RandomForestClassifier\n",
        "from sklearn.neighbors import KNeighborsClassifier\n",
        "from sklearn.svm import SVC\n",
        "from sklearn.naive_bayes import GaussianNB\n",
        "from sklearn.ensemble import AdaBoostClassifier\n",
        "from sklearn.ensemble import GradientBoostingClassifier\n",
        "from sklearn.ensemble import ExtraTreesClassifier\n",
        "from sklearn.ensemble import BaggingClassifier\n",
        "from sklearn.ensemble import VotingClassifier\n",
        "from sklearn.ensemble import StackingClassifier\n",
        "from sklearn.metrics import accuracy_score,recall_score,f1_score,precision_score,classification_report,confusion_matrix"
      ]
    },
    {
      "cell_type": "code",
      "source": [
        "test_data = pd.read_csv(r'test.csv')\n",
        "train_data = pd.read_csv(r'train.csv')\n",
        "sample_data=pd.read_csv(r'sample_submission.csv')"
      ],
      "metadata": {
        "id": "5g6VT1RMDdCa"
      },
      "execution_count": null,
      "outputs": []
    },
    {
      "cell_type": "markdown",
      "source": [
        "**For Test Data**"
      ],
      "metadata": {
        "id": "2z26Ni7ID3SL"
      }
    },
    {
      "cell_type": "code",
      "source": [
        "test_data.head()"
      ],
      "metadata": {
        "id": "9kW1UUXkDnuj"
      },
      "execution_count": null,
      "outputs": []
    },
    {
      "cell_type": "code",
      "source": [
        "test_dataframe=pd.DataFrame(test_data)"
      ],
      "metadata": {
        "id": "6QjMC1EZDq8o"
      },
      "execution_count": null,
      "outputs": []
    },
    {
      "cell_type": "code",
      "source": [
        "test_dataframe.info()"
      ],
      "metadata": {
        "id": "83lurtBnDyGz"
      },
      "execution_count": null,
      "outputs": []
    },
    {
      "cell_type": "code",
      "source": [
        "test_dataframe.isnull().sum()"
      ],
      "metadata": {
        "id": "nlCVxhSDEbkF"
      },
      "execution_count": null,
      "outputs": []
    },
    {
      "cell_type": "code",
      "source": [
        "for i in test_dataframe.columns:\n",
        "    print(i,':\\n',test_dataframe[i].unique())"
      ],
      "metadata": {
        "id": "RdZFWb72EGm2"
      },
      "execution_count": null,
      "outputs": []
    },
    {
      "cell_type": "code",
      "source": [
        "test_dataframe.describe(include=\"all\")"
      ],
      "metadata": {
        "id": "eyNclmRGEWFA"
      },
      "execution_count": null,
      "outputs": []
    },
    {
      "cell_type": "code",
      "source": [
        "mod_test_data=test_dataframe.drop(columns=['id'],axis=1)"
      ],
      "metadata": {
        "id": "-nS1YJSfEl4O"
      },
      "execution_count": null,
      "outputs": []
    },
    {
      "cell_type": "code",
      "source": [
        "mod_test_data.head()"
      ],
      "metadata": {
        "id": "eQwcMKI4FC6F"
      },
      "execution_count": null,
      "outputs": []
    },
    {
      "cell_type": "code",
      "source": [
        "mod_test_data.describe(include=\"all\")"
      ],
      "metadata": {
        "id": "Y080aATIFfiv"
      },
      "execution_count": null,
      "outputs": []
    },
    {
      "cell_type": "code",
      "source": [
        "def info(df):\n",
        "  for i in df.columns:\n",
        "      if df[i].dtype=='int':\n",
        "          print(i,':\\n',f\"mean of {i} :\",df[i].mean(),'\\n',\n",
        "                f\"median of {i} :\",df[i].median(),'\\n',\n",
        "                f\"mode of {i} :\",df[i].mode(),'\\n',\n",
        "                f\"standardisation of {i}:\",df[i].std(),'\\n',\n",
        "                f\"variance of {i}:\",df[i].var(),'\\n')\n",
        "          print('\\n')\n",
        "          q3=df[i].quantile(0.75)\n",
        "          q1=df[i].quantile(0.25)\n",
        "          iqr=q3-q1\n",
        "          upper_limit=q3+1.5*iqr\n",
        "          lower_limit=q1-1.5*iqr\n",
        "          print(f'upper limit of {i}:',upper_limit)\n",
        "          print(f'lower limit of {i}:',lower_limit)\n",
        "          plt.figure(figsize=(10,5))\n",
        "          sns.kdeplot(data=df, x=i, hue='cb_person_default_on_file')\n",
        "          sns.distplot(df[i],bins=10)\n",
        "          plt.title(f'Distribution of {i}')\n",
        "          plt.grid(True)\n",
        "          plt.show()\n",
        "          print('\\n')\n",
        "      if df[i].dtype=='float':\n",
        "        print(i,':\\n',f\"mean of {i} :\",df[i].mean(),'\\n',\n",
        "              f\"median of {i} :\",df[i].median(),'\\n',\n",
        "              f\"mode of {i} :\",df[i].mode(),'\\n',\n",
        "              f\"standardisation of {i}:\",df[i].std(),'\\n',\n",
        "              f\"variance of {i}:\",df[i].var(),'\\n')\n",
        "        print('\\n')\n",
        "        q3=df[i].quantile(0.75)\n",
        "        q1=df[i].quantile(0.25)\n",
        "        iqr=q3-q1\n",
        "        upper_limit=q3+1.5*iqr\n",
        "        lower_limit=q1-1.5*iqr\n",
        "        print(f'upper limit of {i}:',upper_limit)\n",
        "        print(f'lower limit of {i}:',lower_limit)\n",
        "        plt.figure(figsize=(10, 5))\n",
        "        sns.kdeplot(data=df, x=i, hue='cb_person_default_on_file')\n",
        "        sns.distplot(df[i], bins=10)\n",
        "        plt.xticks(rotation=90)\n",
        "        plt.title(f'Distribution of {i}')\n",
        "        plt.grid(True)\n",
        "        plt.show()\n",
        "        print('\\n')\n",
        "      if df[i].dtype=='object':\n",
        "        plt.figure(figsize=(10,5))\n",
        "        sns.countplot(df[i],palette='hls')\n",
        "        plt.xticks(rotation=90)\n",
        "        plt.title(f'Distribution of {i}')\n",
        "        plt.show()\n",
        "        print('\\n')"
      ],
      "metadata": {
        "id": "WRIVd6vaNESW"
      },
      "execution_count": null,
      "outputs": []
    },
    {
      "cell_type": "code",
      "source": [
        "info(mod_test_data)"
      ],
      "metadata": {
        "id": "vRVZ1IhjHqvT"
      },
      "execution_count": null,
      "outputs": []
    },
    {
      "cell_type": "code",
      "source": [
        "train_data.head()"
      ],
      "metadata": {
        "id": "F9LG1U0rZHaK"
      },
      "execution_count": null,
      "outputs": []
    },
    {
      "cell_type": "markdown",
      "source": [
        "**For Train Data**"
      ],
      "metadata": {
        "id": "e3dEpjVGNB0J"
      }
    },
    {
      "cell_type": "code",
      "source": [
        "mod_train_data=train_data.drop(columns=['id'],axis=1)"
      ],
      "metadata": {
        "id": "cY2-Vw02KPkS"
      },
      "execution_count": null,
      "outputs": []
    },
    {
      "cell_type": "code",
      "source": [
        "mod_train_data.head()"
      ],
      "metadata": {
        "id": "Jr5Am0PrKdcJ"
      },
      "execution_count": null,
      "outputs": []
    },
    {
      "cell_type": "code",
      "source": [
        "mod_train_data.info()"
      ],
      "metadata": {
        "id": "GWjvOU0XNACw"
      },
      "execution_count": null,
      "outputs": []
    },
    {
      "cell_type": "code",
      "source": [
        "mod_train_data.isnull().sum()"
      ],
      "metadata": {
        "id": "tv-NPl-GNKtr"
      },
      "execution_count": null,
      "outputs": []
    },
    {
      "cell_type": "code",
      "source": [
        "for i in mod_train_data.columns:\n",
        "    print(i,':\\n',mod_train_data[i].unique(),'\\n')"
      ],
      "metadata": {
        "id": "NJapkOLuNvFr"
      },
      "execution_count": null,
      "outputs": []
    },
    {
      "cell_type": "code",
      "source": [
        "mod_train_data.describe(include=\"all\")"
      ],
      "metadata": {
        "id": "QKJhSgooNOen"
      },
      "execution_count": null,
      "outputs": []
    },
    {
      "cell_type": "code",
      "source": [
        "info(mod_train_data)"
      ],
      "metadata": {
        "id": "XEiLQnj4Obts"
      },
      "execution_count": null,
      "outputs": []
    },
    {
      "cell_type": "code",
      "source": [
        "mod_train_data=mod_train_data[\n",
        "    (mod_train_data['person_age']>=12.5) & (mod_train_data['person_age']<=40.5) &\n",
        "    (mod_train_data['person_income']>0) & (mod_train_data['person_income']<=126000.0) &\n",
        "    (mod_train_data['loan_amnt']>0) & (mod_train_data['loan_amnt']<=22500.0) &\n",
        "    (mod_train_data['cb_person_cred_hist_length']>0) & (mod_train_data['cb_person_cred_hist_length']<=15.5) &\n",
        "    (mod_train_data['person_emp_length']>0) & (mod_train_data['person_emp_length']<=14.5) &\n",
        "    (mod_train_data['loan_int_rate']>=0.21499999999999897) & (mod_train_data['loan_int_rate']<=20.655) &\n",
        "    (mod_train_data['loan_percent_income']>0) & (mod_train_data['loan_percent_income']<=0.39)\n",
        "]"
      ],
      "metadata": {
        "id": "bhpnX4cLOqdE"
      },
      "execution_count": null,
      "outputs": []
    },
    {
      "cell_type": "code",
      "source": [
        "s=StandardScaler()\n",
        "for i in mod_train_data.columns:\n",
        "    if mod_train_data[i].dtype==\"int\":\n",
        "        mod_train_data[i]=s.fit_transform(mod_train_data[[i]])\n",
        "    elif mod_train_data[i].dtype==\"float\":\n",
        "        mod_train_data[i]=s.fit_transform(mod_train_data[[i]])"
      ],
      "metadata": {
        "id": "3uUPJKUolpuu"
      },
      "execution_count": null,
      "outputs": []
    },
    {
      "source": [
        "oe = OrdinalEncoder()\n",
        "transformers = [\n",
        "    ('home_ownership', oe, ['person_home_ownership']),\n",
        "    ('loan_intent', oe, ['loan_intent']),\n",
        "    ('loan_grade', oe, ['loan_grade']),\n",
        "    ('default_on_file', oe, ['cb_person_default_on_file'])\n",
        "]\n",
        "ct = ColumnTransformer(transformers, remainder='passthrough')\n",
        "mod_train_data_ct = ct.fit_transform(mod_train_data)\n",
        "make_column_transformerod_1=pd.DataFrame(mod_train_data_ct,columns=mod_train_data.columns)"
      ],
      "cell_type": "code",
      "metadata": {
        "id": "mJpNLVKtsAhk"
      },
      "execution_count": null,
      "outputs": []
    },
    {
      "cell_type": "code",
      "source": [
        "make_column_transformerod_1.sample(5)"
      ],
      "metadata": {
        "id": "r5Xh-nDnsUti"
      },
      "execution_count": null,
      "outputs": []
    },
    {
      "cell_type": "code",
      "source": [
        "make_column_transformerod_1=make_column_transformerod_1.drop(['loan_status'],axis=1)\n",
        "make_column_transformerod_1['loan_status']=train_data['loan_status']\n",
        "make_column_transformerod_1['loan_status'].value_counts()\n",
        "le=LabelEncoder()\n",
        "make_column_transformerod_1['loan_status']=le.fit_transform(make_column_transformerod_1['loan_status'])\n",
        "plt.figure(figsize=(10,10))\n",
        "sns.heatmap(make_column_transformerod_1.corr(),annot=True)"
      ],
      "metadata": {
        "id": "oKGR5oEZN8EJ"
      },
      "execution_count": null,
      "outputs": []
    },
    {
      "cell_type": "code",
      "source": [
        "x=make_column_transformerod_1.iloc[:,:-1]\n",
        "y=make_column_transformerod_1['loan_status']\n",
        "x_train,x_test,y_train,y_test=train_test_split(x,y,test_size=0.2,random_state=4,stratify=y)"
      ],
      "metadata": {
        "id": "__7rTdy8_xMT"
      },
      "execution_count": null,
      "outputs": []
    },
    {
      "cell_type": "code",
      "source": [
        "model1=LogisticRegression()\n",
        "pred1=model1.fit(x_train,y_train).predict(x_test)\n",
        "print('Accuracy  score of Logistic model:',accuracy_score(y_test,pred1))\n",
        "print('Recall score of Logistic model:',recall_score(y_test,pred1))\n",
        "print('F1 score of Logistic model:',f1_score(y_test,pred1))\n",
        "print('Precision score of Logistic model:',precision_score(y_test,pred1))\n",
        "plt.figure(figsize=(6,6))\n",
        "sns.countplot(pred1)\n",
        "plt.xticks(rotation=90)\n",
        "plt.title('predicted scores of logistic model')\n",
        "plt.show()\n"
      ],
      "metadata": {
        "id": "UDY9XVdeOKNR",
        "outputId": "e7f0c449-e136-4bb5-e4fe-2a1ed34d2800",
        "colab": {
          "base_uri": "https://localhost:8080/",
          "height": 639
        }
      },
      "execution_count": 42,
      "outputs": [
        {
          "output_type": "stream",
          "name": "stdout",
          "text": [
            "Accuracy  score of Logistic model: 0.8568129330254042\n",
            "Recall score of Logistic model: 0.0\n",
            "F1 score of Logistic model: 0.0\n",
            "Precision score of Logistic model: 0.0\n"
          ]
        },
        {
          "output_type": "display_data",
          "data": {
            "text/plain": [
              "<Figure size 600x600 with 1 Axes>"
            ],
            "image/png": "[encoded data removed]"
          },
          "metadata": {}
        }
      ]
    },
    {
      "cell_type": "code",
      "source": [
        "model2=DecisionTreeClassifier(criterion='gini', splitter='best', max_depth=None, min_samples_split=2, min_samples_leaf=1,max_features=11, random_state=9)\n",
        "pred2=model2.fit(x_train,y_train).predict(x_test)\n",
        "print('Accuracy  score of DecisionTree model:',accuracy_score(y_test,pred2))\n",
        "print('Recall score of DecisionTree model:',recall_score(y_test,pred2))\n",
        "print('F1 score of DecisionTree model:',f1_score(y_test,pred2))\n",
        "print('Precision score of DecisionTree model:',precision_score(y_test,pred2))\n",
        "plt.figure(figsize=(6,6))\n",
        "sns.countplot(pred2)\n",
        "plt.xticks(rotation=90)\n",
        "plt.title('predicted scores of DecisionTree model')\n",
        "plt.show()"
      ],
      "metadata": {
        "id": "Csf9x3h9OU97"
      },
      "execution_count": null,
      "outputs": []
    },
    {
      "cell_type": "code",
      "source": [
        "model3 = RandomForestClassifier(n_estimators=100, criterion='gini', min_samples_split=2, min_samples_leaf=1, max_features=11, max_leaf_nodes=None,  n_jobs=11, random_state=9) # Change max_leaf_nodes to None or an integer greater than 1.\n",
        "pred3 = model3.fit(x_train,y_train).predict(x_test)\n",
        "print('Accuracy  score of RandomForest model:',accuracy_score(y_test,pred3))\n",
        "print('Recall score of RandomForest model:',recall_score(y_test,pred3))\n",
        "print('F1 score of RandomForest model:',f1_score(y_test,pred3))\n",
        "print('Precision score of RandomForest model:',precision_score(y_test,pred3))\n",
        "plt.figure(figsize=(6,6))\n",
        "sns.countplot(pred3,palette='hls')\n",
        "plt.xticks(rotation=90)\n",
        "plt.title('predicted scores of RandomForest model')\n",
        "plt.show()"
      ],
      "metadata": {
        "id": "aJJBWFUd3d2G",
        "outputId": "eae4bdf9-38d2-4e13-f56c-7c7c7b528797",
        "colab": {
          "base_uri": "https://localhost:8080/"
        }
      },
      "execution_count": null,
      "outputs": [
        {
          "output_type": "stream",
          "name": "stdout",
          "text": [
            "Accuracy  score of RandomForest model: 0.8561200923787529\n",
            "Recall score of RandomForest model: 0.0024193548387096775\n",
            "F1 score of RandomForest model: 0.004792332268370607\n",
            "Precision score of RandomForest model: 0.25\n"
          ]
        }
      ]
    },
    {
      "cell_type": "code",
      "source": [
        "model4=KNeighborsClassifier()\n",
        "pred4=model4.fit(x_train,y_train).predict(x_test)\n",
        "print('Accuracy  score of KNeighbors model:',accuracy_score(y_test,pred4))\n",
        "print('Recall score of KNeighbors model:',recall_score(y_test,pred4))\n",
        "print('F1 score of KNeighbors model:',f1_score(y_test,pred4))\n",
        "print('Precision score of KNeighbors model:',precision_score(y_test,pred4))\n",
        "plt.figure(figsize=(6,6))\n",
        "sns.countplot(pred4,palette='hls')\n",
        "plt.xticks(rotation=90)\n",
        "plt.title('predicted scores of KNeighbors model')\n",
        "plt.show()"
      ],
      "metadata": {
        "id": "TD3h_cVP3hcw"
      },
      "execution_count": null,
      "outputs": []
    },
    {
      "cell_type": "code",
      "source": [
        "model5=SVC(kernel='rbf', random_state=42)\n",
        "pred5=model5.fit(x_train,y_train).predict(x_test)\n",
        "print('Accuracy  score of SVC model:',accuracy_score(y_test,pred5))\n",
        "print('Recall score of SVC model:',recall_score(y_test,pred5))\n",
        "print('F1 score of SVC model:',f1_score(y_test,pred5))\n",
        "print('Precision score of SVC model:',precision_score(y_test,pred5))\n",
        "plt.figure(figsize=(6,6))\n",
        "sns.countplot(pred5,palette='hls')\n",
        "plt.xticks(rotation=90)\n",
        "plt.title('predicted scores of SVC model')\n",
        "plt.show()"
      ],
      "metadata": {
        "id": "DYHcWjUX3iWw"
      },
      "execution_count": null,
      "outputs": []
    },
    {
      "cell_type": "code",
      "source": [
        "model6=GaussianNB()\n",
        "pred6=model6.fit(x_train,y_train).predict(x_test)\n",
        "print('Accuracy  score of GaussianNB model:',accuracy_score(y_test,pred6))\n",
        "print('Recall score of GaussianNB model:',recall_score(y_test,pred6))\n",
        "print('F1 score of GaussianNB model:',f1_score(y_test,pred6))\n",
        "print('Precision score of GaussianNB model:',precision_score(y_test,pred6))\n",
        "plt.figure(figsize=(6,6))\n",
        "sns.countplot(pred6,palette='hls')\n",
        "plt.xticks(rotation=90)\n",
        "plt.title('predicted scores of GaussianNB model')\n",
        "plt.show()"
      ],
      "metadata": {
        "id": "pS2TbbzB3kgb"
      },
      "execution_count": null,
      "outputs": []
    },
    {
      "cell_type": "code",
      "source": [
        "model7=AdaBoostClassifier()\n",
        "pred7=model7.fit(x_train,y_train).predict(x_test)\n",
        "print('Accuracy  score of DecisionTree model:',accuracy_score(y_test,pred2))\n",
        "print('Recall score of DecisionTree model:',recall_score(y_test,pred2))\n",
        "print('F1 score of DecisionTree model:',f1_score(y_test,pred2))\n",
        "print('Precision score of DecisionTree model:',precision_score(y_test,pred2))\n",
        "plt.figure(figsize=(6,6))\n",
        "sns.countplot(pred7,palette='hls')\n",
        "plt.xticks(rotation=90)\n",
        "plt.title('predicted scores of AdaBoost model')\n",
        "plt.show()"
      ],
      "metadata": {
        "id": "ohnKfilq3n06"
      },
      "execution_count": null,
      "outputs": []
    },
    {
      "cell_type": "code",
      "source": [
        "model8=GradientBoostingClassifier()\n",
        "pred8=model8.fit(x_train,y_train).predict(x_test)\n",
        "print('Accuracy  score of GradientBoosting model:',accuracy_score(y_test,pred8))\n",
        "print('Recall score of GradientBoosting model:',recall_score(y_test,pred8))\n",
        "print('F1 score of GradientBoosting model:',f1_score(y_test,pred8))\n",
        "print('Precision score of GradientBoosting model:',precision_score(y_test,pred8))\n",
        "plt.figure(figsize=(6,6))\n",
        "sns.countplot(pred8,palette='hls')\n",
        "plt.xticks(rotation=90)\n",
        "plt.title('predicted scores of GradientBoosting model')\n",
        "plt.show()"
      ],
      "metadata": {
        "id": "z65PDjtd3p5s"
      },
      "execution_count": null,
      "outputs": []
    },
    {
      "cell_type": "code",
      "source": [
        "model9=ExtraTreesClassifier(criterion='gini', splitter='random', max_depth=None, min_samples_split=2, min_samples_leaf=1, min_weight_fraction_leaf=0.0, max_features=11, random_state=7)\n",
        "pred9=model9.fit(x_train,y_train).predict(x_test)\n",
        "print('Accuracy  score of ExtraTrees model:',accuracy_score(y_test,pred9))\n",
        "print('Recall score of ExtraTrees model:',recall_score(y_test,pred9))\n",
        "print('F1 score of ExtraTrees model:',f1_score(y_test,pred9))\n",
        "print('Precision score of ExtraTrees model:',precision_score(y_test,pred9))\n",
        "plt.figure(figsize=(6,6))\n",
        "sns.countplot(pred9,palette='hls')\n",
        "plt.xticks(rotation=90)\n",
        "plt.title('predicted scores of ExtraTrees model')"
      ],
      "metadata": {
        "id": "LVwoev-g3u71"
      },
      "execution_count": null,
      "outputs": []
    }
  ]
}